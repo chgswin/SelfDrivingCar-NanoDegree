{
 "cells": [
  {
   "cell_type": "markdown",
   "metadata": {},
   "source": [
    "<h1>Computer Vision Fundamentals</h1>\n",
    "<aside>Content adopted from Udacity: Self-Driving Car Nanodegree</aside>"
   ]
  },
  {
   "cell_type": "markdown",
   "metadata": {},
   "source": [
    "<p>As a human, we use eyes to figure out how fast to go and where the lane lines are and where to turn.</p>\n",
    "<p>For robots, we use sensors and cameras to make sense of the outside world.</p>\n",
    "<ul>\n",
    "<li>Detect lane lines: Identify and track the positions of the lane lines in a series of images ← Use image analysis techniques.\n",
    "<li>Features used in identification of lane lines on the road: Color, Shape, Orientation, Position in the image.\n",
    "</ul>"
   ]
  },
  {
   "cell_type": "markdown",
   "metadata": {},
   "source": [
    "<img src=\"exit-ramp.jpg\" alt=\"Exit ramp\"/>\n",
    "<p>A stack of questions arises:</p>\n",
    "<ol>\n",
    "    <li>What colors mean in digital images? <strong> Answer: </strong> One image is made up of a stack of three images: red, green and blue → three color channels: containing pixels whose values range from 0 to 255 (0 is the darkest, 255 is the brightest). </li>\n",
    "    <li>Lines are white, how could we detect white pixels in an image? <strong> Answer: </strong> We need to keep the lane (normal in white) while blacking out other region.</li>\n",
    "</ol>\n",
    "\n",
    "\n",
    "<p>The code below shows how we could detect the lane lines by using <strong>color extraction</strong>.</p>"
   ]
  },
  {
   "cell_type": "code",
   "execution_count": 13,
   "metadata": {},
   "outputs": [],
   "source": [
    "import matplotlib.pyplot as plt\n",
    "import matplotlib.image as mpimg\n",
    "import numpy as np"
   ]
  },
  {
   "cell_type": "code",
   "execution_count": 14,
   "metadata": {},
   "outputs": [],
   "source": [
    "#Read in the image and print out some stats\n",
    "image = mpimg.imread('test.jpg')\n",
    "\n",
    "#print('This image is: ', type(image), 'with dimensions: ', image.shape)\n",
    "\n",
    "#Grab the x and y size and make a copy of the image\n",
    "ysize = image.shape[0]\n",
    "xsize = image.shape[1]\n",
    "\n",
    "\"\"\"\n",
    "Note: always make a copy rather than simply using \"=\"\n",
    "If instead, you say \"a=b\" then all changes you make to \"a\"\n",
    "will be reflected in \"b\"\n",
    "\"\"\"\n",
    "\n",
    "color_select = np.copy(image)"
   ]
  },
  {
   "cell_type": "code",
   "execution_count": 15,
   "metadata": {},
   "outputs": [],
   "source": [
    "\"\"\"\n",
    "Define our color selection criteria\n",
    "Note: if you run this code, you'll find these are not sensible values!!\n",
    "But you'll get the chance to play with them soon in a quiz\n",
    "\"\"\"\n",
    "\n",
    "red_threshold = 200\n",
    "green_threshold = 200\n",
    "blue_threshold = 200\n",
    "\n",
    "rgb_threshold = [red_threshold, green_threshold, blue_threshold]"
   ]
  },
  {
   "cell_type": "code",
   "execution_count": 16,
   "metadata": {},
   "outputs": [
    {
     "data": {
      "image/png": "[encoded data removed]",
      "text/plain": [
       "<Figure size 432x288 with 1 Axes>"
      ]
     },
     "metadata": {
      "needs_background": "light"
     },
     "output_type": "display_data"
    }
   ],
   "source": [
    "thresholds = (image[:,:,0] < rgb_threshold[0]) | \\\n",
    "            (image[:,:,1] < rgb_threshold[1]) |  \\\n",
    "            (image[:,:,2] < rgb_threshold[2])\n",
    "\n",
    "color_select[thresholds] = [0,0,0]\n",
    "\n",
    "plt.imshow(color_select)\n",
    "plt.show()\n",
    "    "
   ]
  },
  {
   "cell_type": "code",
   "execution_count": 17,
   "metadata": {},
   "outputs": [],
   "source": [
    "mpimg.imsave('text_save.png', color_select)"
   ]
  }
 ],
 "metadata": {
  "kernelspec": {
   "display_name": "Python 3",
   "language": "python",
   "name": "python3"
  },
  "language_info": {
   "codemirror_mode": {
    "name": "ipython",
    "version": 3
   },
   "file_extension": ".py",
   "mimetype": "text/x-python",
   "name": "python",
   "nbconvert_exporter": "python",
   "pygments_lexer": "ipython3",
   "version": "3.7.3"
  }
 },
 "nbformat": 4,
 "nbformat_minor": 2
}
